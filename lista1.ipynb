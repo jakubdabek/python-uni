{
 "cells": [
  {
   "cell_type": "markdown",
   "metadata": {},
   "source": [
    "# Lista 1\n",
    "\n",
    "## Kurs wybranego języka programowania (Python)\n",
    "\n",
    "Wszystkie rozwiązania proszę wpisać w tym notatniku poniżej treści zadań. Zadania z `*` to zadania dodatkowe."
   ]
  },
  {
   "cell_type": "markdown",
   "metadata": {},
   "source": [
    "## Zadanie 1 _(5pt)_\n",
    "\n",
    "Napisz funkcję, który wyświetla trójkąt Pascala o zadanej wysokości\n",
    "```\n",
    "                1\n",
    "              1   1\n",
    "            1   2   1\n",
    "          1   3   3   1\n",
    "        1   4   6   4   1\n",
    "      .....................\n",
    "```"
   ]
  },
  {
   "cell_type": "code",
   "execution_count": 1,
   "metadata": {
    "pycharm": {
     "is_executing": false
    }
   },
   "outputs": [
    {
     "name": "stdout",
     "output_type": "stream",
     "text": [
      "    1 \n",
      "   1 1 \n",
      "  1 2 1 \n",
      " 1 3 3 1 \n",
      "1 4 6 4 1 \n",
      "           1  \n",
      "         1   1  \n",
      "       1   2   1  \n",
      "     1   3   3   1  \n",
      "   1   4   6   4   1  \n",
      " 1   5  10  10   5   1  \n",
      "                             1   \n",
      "                          1     1   \n",
      "                       1     2     1   \n",
      "                    1     3     3     1   \n",
      "                 1     4     6     4     1   \n",
      "              1     5    10    10     5     1   \n",
      "           1     6    15    20    15     6     1   \n",
      "        1     7    21    35    35    21     7     1   \n",
      "     1     8    28    56    70    56    28     8     1   \n",
      "  1     9    36    84   126   126    84    36     9     1   \n"
     ]
    }
   ],
   "source": [
    "from itertools import tee, chain\n",
    "\n",
    "def flatten(list_of_lists):\n",
    "    \"Flatten one level of nesting\"\n",
    "    return chain.from_iterable(list_of_lists)\n",
    "\n",
    "def pairwise(iterable):\n",
    "    \"s -> (s0,s1), (s1,s2), (s2, s3), ...\"\n",
    "    a, b = tee(iterable)\n",
    "    next(b, None)\n",
    "    return zip(a, b)\n",
    "\n",
    "def pascal_triangle(n):\n",
    "    rows = []\n",
    "    for i in range(n):\n",
    "        if i == 0:\n",
    "            rows.append([1])\n",
    "        else:\n",
    "            new_row = [1]\n",
    "            new_row.extend(a + b for a, b in pairwise(rows[i - 1]))\n",
    "            new_row.append(1)\n",
    "            rows.append(new_row)\n",
    "    return rows\n",
    "\n",
    "def print_pascal(n):\n",
    "    data = pascal_triangle(n)\n",
    "    width = len(str(max(flatten(data))))\n",
    "    space = ' ' * width\n",
    "    for i, row in enumerate(data):\n",
    "        print(space * (n - i - 1), end='')\n",
    "        for v in row:\n",
    "            print(f\"{v:{width}}\", end=space)\n",
    "        print()\n",
    "\n",
    "print_pascal(5)\n",
    "print_pascal(6)\n",
    "print_pascal(10)"
   ]
  },
  {
   "cell_type": "markdown",
   "metadata": {},
   "source": [
    "## Zadanie 2 _(5pt)_\n",
    "\n",
    "Napisz funkcję `primes(n)` zwracająca listę liczb pierwszych nie większych niż $n$ np.\n",
    "\n",
    "```\n",
    "In [ ]:   primes(6)\n",
    "Out [ ]: [2, 3, 5]\n",
    "```"
   ]
  },
  {
   "cell_type": "code",
   "execution_count": 2,
   "metadata": {
    "pycharm": {
     "is_executing": false
    }
   },
   "outputs": [
    {
     "data": {
      "text/plain": [
       "[2, 3, 5]"
      ]
     },
     "execution_count": 2,
     "metadata": {},
     "output_type": "execute_result"
    }
   ],
   "source": [
    "from math import ceil, sqrt\n",
    "\n",
    "def primes(n):\n",
    "    sieve = 2 * [False] + (n - 1) * [True]\n",
    "    for p in range(2, ceil(sqrt(n)) + 1):\n",
    "        if sieve[p]:\n",
    "            for i in range(p * p, len(sieve), p):\n",
    "                sieve[i] = False\n",
    "    return [i for i in range(1, len(sieve)) if sieve[i]]\n",
    "\n",
    "primes(6)"
   ]
  },
  {
   "cell_type": "markdown",
   "metadata": {},
   "source": [
    "## Zadanie 3 _(5pt)_\n",
    "\n",
    "Napisz funkcje, która usuwa wszystkie powtarzające się elementy z listy (tak, że każdy element występuje tylko raz) np. z listy `[1,1,2,2,2,3,3,5,5,5,4,4,4,0]` dostajemy `[1,2,3,5,4,0]`."
   ]
  },
  {
   "cell_type": "code",
   "execution_count": 3,
   "metadata": {
    "pycharm": {
     "is_executing": false
    }
   },
   "outputs": [
    {
     "data": {
      "text/plain": [
       "[1, 2, 3, 5, 4, 0]"
      ]
     },
     "execution_count": 3,
     "metadata": {},
     "output_type": "execute_result"
    }
   ],
   "source": [
    "def unique(iterable):\n",
    "    seen = set()\n",
    "    result = []\n",
    "    for element in iterable:\n",
    "        if element not in seen:\n",
    "            seen.add(element)\n",
    "            result.append(element)\n",
    "    return result\n",
    "\n",
    "unique([1,1,2,2,2,3,3,5,5,5,4,4,4,0,1,1,1])"
   ]
  },
  {
   "cell_type": "markdown",
   "metadata": {},
   "source": [
    "## Zadanie 4 _(10pt)_\n",
    "\n",
    "Napisz funkcję `prime_factors(n)`, która rozkłada $n$ na czynniki pierwsze i jako wynik wraca listę par $[(p_1,\\alpha_1), (p_2,\\alpha_2), \\ldots, (p_k, \\alpha_k)]$ taką, że $p_1^{\\alpha_1}p_2^{\\alpha_2}\\ldots p_k^{\\alpha_k}$.\n"
   ]
  },
  {
   "cell_type": "code",
   "execution_count": 4,
   "metadata": {
    "pycharm": {
     "is_executing": false
    }
   },
   "outputs": [
    {
     "name": "stdout",
     "output_type": "stream",
     "text": [
      "  0: []\n",
      "  1: []\n",
      "  2: [(2, 1)]\n",
      "  3: [(3, 1)]\n",
      "  4: [(2, 2)]\n",
      "  5: [(5, 1)]\n",
      "  6: [(2, 1), (3, 1)]\n",
      "  7: [(7, 1)]\n",
      "  8: [(2, 3)]\n",
      "  9: [(3, 2)]\n",
      " 10: [(2, 1), (5, 1)]\n",
      " 11: [(11, 1)]\n",
      " 12: [(2, 2), (3, 1)]\n",
      " 13: [(13, 1)]\n",
      " 14: [(2, 1), (7, 1)]\n",
      " 15: [(3, 1), (5, 1)]\n",
      " 16: [(2, 4)]\n",
      " 17: [(17, 1)]\n",
      " 18: [(2, 1), (3, 2)]\n",
      " 19: [(19, 1)]\n",
      "120: [(2, 3), (3, 1), (5, 1)]\n",
      "121: [(11, 2)]\n",
      "122: [(2, 1), (61, 1)]\n",
      "123: [(3, 1), (41, 1)]\n",
      "124: [(2, 2), (31, 1)]\n",
      "125: [(5, 3)]\n"
     ]
    }
   ],
   "source": [
    "def prime_factors(n):\n",
    "    i = 2\n",
    "    factors = []\n",
    "    current_exponent = 0\n",
    "    while i < n:\n",
    "        if n % i == 0:\n",
    "            n //= i\n",
    "            current_exponent += 1\n",
    "        else:\n",
    "            if current_exponent > 0:\n",
    "                factors.append((i, current_exponent))\n",
    "                current_exponent = 0\n",
    "            i += 1\n",
    "    if n > 1:\n",
    "        factors.append((n, current_exponent + 1))\n",
    "    return factors\n",
    "\n",
    "for i in list(range(20)) + list(range(120, 126)):\n",
    "    print(f\"{i:3}: {prime_factors(i)}\")"
   ]
  },
  {
   "cell_type": "markdown",
   "metadata": {},
   "source": [
    "## Zadanie 5 _(10pt)_\n",
    "\n",
    "Napisz funkcję `fraczero(n)` liczącą silnie $n!$ dla $n$ od $0$ do $10000$ oraz jako wynik wraca liczbę zer na końcu $n!$."
   ]
  },
  {
   "cell_type": "code",
   "execution_count": 5,
   "metadata": {
    "pycharm": {
     "is_executing": false
    }
   },
   "outputs": [
    {
     "name": "stdout",
     "output_type": "stream",
     "text": [
      "24 4 4\n",
      "25 6 6\n",
      "100 24 24\n",
      "1000 249 249\n",
      "10000 2499 2499\n"
     ]
    }
   ],
   "source": [
    "def fraczero(n):\n",
    "    zeros = 0\n",
    "    while n > 0:\n",
    "        n //= 5\n",
    "        zeros += n\n",
    "    return zeros\n",
    "\n",
    "def fraczero_slow(n):\n",
    "    res = 1\n",
    "    while n > 0:\n",
    "        res *= n\n",
    "        n -= 1\n",
    "    s = str(res)\n",
    "    return len(s) - len(s.rstrip('0'))\n",
    "\n",
    "for i in [24, 25, 100, 1000, 10000]:\n",
    "    print(i, fraczero(i), fraczero_slow(i))"
   ]
  },
  {
   "cell_type": "markdown",
   "metadata": {},
   "source": [
    "## Zadanie 6 _(10pt)_\n",
    "\n",
    "Napisz program, który generuje liczbę $20$ liczb losowych (rozkład jednostajny) od $1$ do $100$\n",
    "* Wyświetl listę wygenerowanych liczb\n",
    "* Wyświetl średnią\n",
    "* Wyświetl największą i najmniejszą wartość\n",
    "* Wyświetl drugą największą i drugą najmniejszą wartość na liście\n",
    "* Wyświetl ile jest liczb parzystych na liście\n",
    " "
   ]
  },
  {
   "cell_type": "code",
   "execution_count": 6,
   "metadata": {
    "pycharm": {
     "is_executing": false
    }
   },
   "outputs": [
    {
     "name": "stdout",
     "output_type": "stream",
     "text": [
      "[59, 56, 5, 90, 80, 85, 78, 93, 53, 16, 12, 43, 72, 100, 63, 89, 42, 8, 60, 48]\n",
      "57.6\n",
      "5 100\n",
      "8 93\n",
      "12\n"
     ]
    }
   ],
   "source": [
    "from random import randint\n",
    "from statistics import mean\n",
    "\n",
    "numbers = [randint(1, 100) for _ in range(20)]\n",
    "\n",
    "print(numbers)\n",
    "print(mean(numbers))\n",
    "low, high = min(numbers), max(numbers)\n",
    "print(low, high)\n",
    "print(min(x for x in numbers if x != low), max(x for x in numbers if x != high))\n",
    "print(sum(1 for x in numbers if x % 2 == 0))"
   ]
  },
  {
   "cell_type": "markdown",
   "metadata": {},
   "source": [
    "## Zadanie 7 _(10pt)_\n",
    "\n",
    "Załóżmy, że mamy następującą listę: `L = ['aababacaa', 'cabaabcca', 'aaabbcbacb', 'acababbaab', ...]` wygenerowaną losowo tzn. lista zawiera losowe ciągi znaków o zadanej długości z liter `'a'`, `'b'` i `'c'`. Takie wzorce występują w wielu miejscach np. sekwencje DNA. Użytkownik zawiera swój (wzorzec) ciąg znaków z literami i pustymi miejscami oznaczonymi przez `'*'` np. `\"a**a******\"`. Wykorzystaj słownik z kluczami zawierającymi indeksy znaków różnych od `'*'` i wartościami liter z wzorca. Napisz program, który znajduje wszystkie sekwencje z listy, które pasuje do podanego wzorca."
   ]
  },
  {
   "cell_type": "code",
   "execution_count": 7,
   "metadata": {
    "pycharm": {
     "is_executing": false
    }
   },
   "outputs": [
    {
     "data": {
      "text/plain": [
       "['aababacaa']"
      ]
     },
     "execution_count": 7,
     "metadata": {},
     "output_type": "execute_result"
    }
   ],
   "source": [
    "def make_matcher(pattern):\n",
    "    indices = {i:x for i, x in enumerate(pattern) if x != '*'}\n",
    "    def is_match(seq):\n",
    "        return all(seq[i] == x for i, x in indices.items())\n",
    "    return is_match\n",
    "\n",
    "def matching(pattern, lst):\n",
    "    is_match = make_matcher(pattern)\n",
    "    return [seq for seq in lst if is_match(seq)]\n",
    "\n",
    "\n",
    "matching(\n",
    "    \"a**a******\", [\"aababacaa\", \"cabaabcca\", \"aaabbcbacb\", \"acababbaab\"]\n",
    ")"
   ]
  },
  {
   "cell_type": "markdown",
   "metadata": {},
   "source": [
    "## Zadanie 8 _(10pt)_\n",
    "\n",
    "Napisz program, który konwerteruje liczby rzymskie na liczby arabskie. Do zapisu liczb rzymskich używa\n",
    "się 7 liter: `I=1`, `V=5`, `X=10`, `L=50`, `C=100`, `D=500`, `M=1000`. Opis algorytmu zamiany z i na system rzymski można znaleźć np. [tutaj](http://www.algorytm.org/algorytmy-arytmetyczne/zamiana-z-i-na-system-rzymski.html)"
   ]
  },
  {
   "cell_type": "code",
   "execution_count": 8,
   "metadata": {
    "pycharm": {
     "is_executing": false
    }
   },
   "outputs": [
    {
     "data": {
      "text/plain": [
       "3999"
      ]
     },
     "execution_count": 8,
     "metadata": {},
     "output_type": "execute_result"
    }
   ],
   "source": [
    "def roman_to_arabic(roman):\n",
    "    roman_numerals = {\"I\": 1, \"V\": 5, \"X\": 10, \"L\": 50, \"C\": 100, \"D\": 500, \"M\": 1000}\n",
    "    arabic = 0\n",
    "    for i, r in enumerate(roman):\n",
    "        if i == len(roman) - 1 or roman_numerals[r] >= roman_numerals[roman[i + 1]]:\n",
    "            arabic += roman_numerals[r]\n",
    "        else:\n",
    "            arabic -= roman_numerals[r]\n",
    "\n",
    "    return arabic\n",
    "\n",
    "roman_to_arabic(\"MMMCMXCIX\")"
   ]
  },
  {
   "cell_type": "markdown",
   "metadata": {},
   "source": [
    "## Zadanie 9* _(5pt)_\n",
    "\n",
    "Napisz program kalkulator, który pobiera wprowadzone wartości oraz funkcje z klawiatury następnie podaje wynik. W przypadku błędnych danych zgłasza błąd.\n",
    "\n",
    "Przykładowa sesja:\n",
    "```\n",
    "    Kalkulator\n",
    "    [1]: 2+5*10\n",
    "        52\n",
    "    [2]: sin(0.5)+cos(0.3)\n",
    "        1.434762027729809\n",
    "    [3]: 2^100\n",
    "        1267650600228229401496703205376\n",
    "```\n",
    "\n",
    "Przykładowy kod pobierania danych od użytkownika:\n",
    "\n",
    "```\n",
    "    x = input('Podaj x = ')\n",
    "```"
   ]
  },
  {
   "cell_type": "code",
   "execution_count": 9,
   "metadata": {
    "pycharm": {
     "is_executing": false
    }
   },
   "outputs": [
    {
     "name": "stdout",
     "output_type": "stream",
     "text": [
      "Kalkulator\n",
      "[1]: 2+5*10\n",
      "52\n",
      "[2]: sin(0.5)+cos(0.3)\n",
      "1.434762027729809\n",
      "[3]: 2^100\n",
      "1267650600228229401496703205376\n",
      "[4]: +\n",
      "Syntax error\n",
      "[5]: x\n",
      "Incorrect variable usage\n",
      "[6]: x=1\n",
      "Syntax error\n",
      "[7]: exit\n",
      "bye\n"
     ]
    }
   ],
   "source": [
    "from math import *\n",
    "from itertools import count\n",
    "\n",
    "print(\"Kalkulator\")\n",
    "for prompt_index in count(1):\n",
    "    try:\n",
    "        inp = input(f\"[{prompt_index}]: \")\n",
    "        if inp == \"exit\":\n",
    "            print(\"bye\")\n",
    "            break\n",
    "        else:\n",
    "            print(eval(inp.replace('^', '**')))\n",
    "    except SyntaxError:\n",
    "        print(\"Syntax error\")\n",
    "    except NameError:\n",
    "        print(\"Incorrect variable usage\")\n",
    "    except (KeyboardInterrupt, EOFError):\n",
    "        print(\"bye\")\n",
    "        break"
   ]
  },
  {
   "cell_type": "markdown",
   "metadata": {},
   "source": [
    "\n",
    "## Zadanie 10* _(10pt)_\n",
    "\n",
    "Napisz program, który rysuje na ekranie w trybie znakowym wykres funkcji zmiennej $x$. Wskazówka: utwórz  ,,tablicę dwuwymiarową'' o wymiarach 80x24 i narysuj wykres w tej tablicy. Następnie wynik wyświetl na ekranie.\n",
    "\n",
    "```\n",
    "        Podaj funkcje f(x) = sin(x)\n",
    "        Podaj początek przedziału a = -pi\n",
    "        Podaj koniec przedziału b = pi\n",
    "                                                |\n",
    "                                                |\n",
    "                                                |              ***********\n",
    "                                                |           ***           ***\n",
    "                                                |         **                 **\n",
    "                                                |        *                     *\n",
    "                                                |      **                       **\n",
    "                                                |     *                           *\n",
    "                                                |   **                             **\n",
    "                                                |  *                                 *\n",
    "                                                | *                                   *\n",
    "                                                |*                                     *\n",
    "        ----------------------------------------|---------------------------------------\n",
    "          *                                   * |\n",
    "           *                                 *  |\n",
    "            **                             **   |\n",
    "              *                           *     |\n",
    "               **                       **      |\n",
    "                 *                     *        |\n",
    "                  **                 **         |\n",
    "                    ***           ***           |\n",
    "                       ***** *****              |\n",
    "                            *                   |\n",
    "                                                |\n",
    "```"
   ]
  },
  {
   "cell_type": "code",
   "execution_count": 10,
   "metadata": {
    "pycharm": {
     "is_executing": false
    },
    "scrolled": false
   },
   "outputs": [
    {
     "name": "stdout",
     "output_type": "stream",
     "text": [
      "Podaj funkcje f(x) = sin(x)\n",
      "Podaj początek przedziału a = -pi\n",
      "Podaj koniec przedziału b = pi\n",
      "                                       |                   *                    \n",
      "                                       |              ***** *****               \n",
      "                                       |            **           **             \n",
      "                                       |          **               **           \n",
      "                                       |         *                   **         \n",
      "                                       |        *                      *        \n",
      "                                       |      **                        *       \n",
      "                                       |     *                           *      \n",
      "                                       |    *                             **    \n",
      "                                       |   *                                *   \n",
      "                                       |  *                                  *  \n",
      "---------------------------------------|----------------------------------------\n",
      "*                                      |*                                      *\n",
      " *                                    *|                                        \n",
      "  *                                  * |                                        \n",
      "   *                                *  |                                        \n",
      "    **                             *   |                                        \n",
      "      *                           *    |                                        \n",
      "       *                        **     |                                        \n",
      "        *                      *       |                                        \n",
      "         **                   *        |                                        \n",
      "           **               **         |                                        \n",
      "             **           **           |                                        \n",
      "               ***********             |                                        \n"
     ]
    }
   ],
   "source": [
    "from math import *\n",
    "from numpy import linspace\n",
    "\n",
    "plane_width = 80\n",
    "plane_height = 24\n",
    "plane = [[' '] * plane_width for _ in range(plane_height)]\n",
    "\n",
    "f = eval(\"lambda x: \" + input(\"Podaj funkcje f(x) = \"))\n",
    "left = eval(input(\"Podaj początek przedziału a = \"))\n",
    "right = eval(input(\"Podaj koniec przedziału b = \"))\n",
    "\n",
    "def scale_x_to_plane(x):\n",
    "    return floor((x - left) / (right - left) * (plane_width - 1))\n",
    "\n",
    "values = [f(x) for x in linspace(left, right, plane_width)]\n",
    "top, bottom = max(values), min(values)\n",
    "\n",
    "def scale_y_to_plane(y):\n",
    "    return floor((y - bottom) / (top - bottom) * (plane_height - 1))\n",
    "\n",
    "for i, v in enumerate(values):\n",
    "    plane[-scale_y_to_plane(v) - 1][i] = '*'\n",
    "\n",
    "if bottom < 0 < top:\n",
    "    for i in range(plane_width):\n",
    "        plane[scale_y_to_plane(0)][i] = '-'\n",
    "\n",
    "if left < 0 < right:\n",
    "    for i in range(plane_height):\n",
    "        plane[i][scale_x_to_plane(0)] = '|'\n",
    "\n",
    "for row in plane:\n",
    "    print(''.join(row))\n"
   ]
  }
 ],
 "metadata": {
  "kernelspec": {
   "display_name": "Python 3",
   "language": "python",
   "name": "python3"
  },
  "language_info": {
   "codemirror_mode": {
    "name": "ipython",
    "version": 3
   },
   "file_extension": ".py",
   "mimetype": "text/x-python",
   "name": "python",
   "nbconvert_exporter": "python",
   "pygments_lexer": "ipython3",
   "version": "3.8.2"
  },
  "pycharm": {
   "stem_cell": {
    "cell_type": "raw",
    "metadata": {
     "collapsed": false
    },
    "source": []
   }
  }
 },
 "nbformat": 4,
 "nbformat_minor": 2
}
